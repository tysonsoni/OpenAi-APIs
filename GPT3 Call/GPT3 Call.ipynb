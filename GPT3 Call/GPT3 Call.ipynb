{
 "cells": [
  {
   "cell_type": "code",
   "execution_count": 1,
   "id": "36d0fad5",
   "metadata": {
    "ExecuteTime": {
     "end_time": "2023-02-02T20:27:16.146038Z",
     "start_time": "2023-02-02T20:27:15.209806Z"
    }
   },
   "outputs": [],
   "source": [
    "import openai\n",
    "import requests\n",
    "import numpy as np"
   ]
  },
  {
   "cell_type": "code",
   "execution_count": 2,
   "id": "724a8188",
   "metadata": {
    "ExecuteTime": {
     "end_time": "2023-02-02T20:27:34.580817Z",
     "start_time": "2023-02-02T20:27:16.146038Z"
    }
   },
   "outputs": [
    {
     "name": "stdout",
     "output_type": "stream",
     "text": [
      "········\n"
     ]
    }
   ],
   "source": [
    "from getpass import getpass\n",
    "openai.api_key = getpass()"
   ]
  },
  {
   "cell_type": "code",
   "execution_count": 4,
   "id": "bb716c64",
   "metadata": {
    "ExecuteTime": {
     "end_time": "2023-02-02T20:28:41.643906Z",
     "start_time": "2023-02-02T20:28:33.721880Z"
    }
   },
   "outputs": [
    {
     "name": "stdout",
     "output_type": "stream",
     "text": [
      "\n",
      "You can update a field address of a document inside a collection in MongoDB by running the following command:\n",
      "\n",
      "db.collectionName.update(    \n",
      "    { _id: ObjectId(\"5f63af2d6cef165d546ca589\") },    \n",
      "    { $set: { \"address\": \"New Address\" } }  \n",
      ")\n"
     ]
    }
   ],
   "source": [
    "prompt = '''\n",
    "How can I update the field address of a document inside a collection in MongoDB?\n",
    "'''\n",
    "engine = 'text-davinci-003'\n",
    "response = openai.Completion.create(\n",
    "  engine=engine, \n",
    "  prompt=prompt,\n",
    "  max_tokens=500\n",
    ")\n",
    "\n",
    "print(response[\"choices\"][0][\"text\"])"
   ]
  }
 ],
 "metadata": {
  "kernelspec": {
   "display_name": "Python 3 (ipykernel)",
   "language": "python",
   "name": "python3"
  },
  "language_info": {
   "codemirror_mode": {
    "name": "ipython",
    "version": 3
   },
   "file_extension": ".py",
   "mimetype": "text/x-python",
   "name": "python",
   "nbconvert_exporter": "python",
   "pygments_lexer": "ipython3",
   "version": "3.10.0"
  },
  "toc": {
   "base_numbering": 1,
   "nav_menu": {},
   "number_sections": true,
   "sideBar": true,
   "skip_h1_title": false,
   "title_cell": "Table of Contents",
   "title_sidebar": "Contents",
   "toc_cell": false,
   "toc_position": {},
   "toc_section_display": true,
   "toc_window_display": false
  }
 },
 "nbformat": 4,
 "nbformat_minor": 5
}
